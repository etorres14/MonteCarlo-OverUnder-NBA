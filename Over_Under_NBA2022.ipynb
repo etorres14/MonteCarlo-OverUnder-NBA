{
  "cells": [
    {
      "cell_type": "markdown",
      "metadata": {
        "id": "view-in-github",
        "colab_type": "text"
      },
      "source": [
        "<a href=\"https://colab.research.google.com/github/etorres14/MonteCarlo-OverUnder-NBA/blob/main/Over_Under_NBA2022.ipynb\" target=\"_parent\"><img src=\"https://colab.research.google.com/assets/colab-badge.svg\" alt=\"Open In Colab\"/></a>"
      ]
    },
    {
      "cell_type": "markdown",
      "metadata": {
        "id": "DW16Z5GdanSy"
      },
      "source": [
        "## Install/Import Dependencies"
      ]
    },
    {
      "cell_type": "code",
      "execution_count": null,
      "metadata": {
        "colab": {
          "background_save": true
        },
        "id": "9qzvesR7wNYD",
        "outputId": "205eb767-c30e-45e4-d02b-1ef7524b0267"
      },
      "outputs": [
        {
          "name": "stdout",
          "output_type": "stream",
          "text": [
            "Collecting unidecode\n",
            "  Downloading Unidecode-1.3.4-py3-none-any.whl (235 kB)\n",
            "\u001b[K     |████████████████████████████████| 235 kB 4.1 MB/s \n",
            "\u001b[?25hInstalling collected packages: unidecode\n",
            "Successfully installed unidecode-1.3.4\n"
          ]
        }
      ],
      "source": [
        "pip install unidecode"
      ]
    },
    {
      "cell_type": "code",
      "execution_count": null,
      "metadata": {
        "colab": {
          "background_save": true
        },
        "id": "zzuebOjIixxl"
      },
      "outputs": [],
      "source": [
        "import pandas as pd\n",
        "import random\n",
        "import time\n",
        "import sqlite3\n",
        "import json\n",
        "import unidecode"
      ]
    },
    {
      "cell_type": "markdown",
      "metadata": {
        "id": "NOk36Dqg5Yhs"
      },
      "source": [
        "## Obtaining list of players that have played in current NBA season"
      ]
    },
    {
      "cell_type": "code",
      "execution_count": null,
      "metadata": {
        "id": "SJgFf3Bni3NI"
      },
      "outputs": [],
      "source": [
        "# The table found on this webpage contains all the players that have played in the current NBA season\n",
        "# I want to grab the url and use pd.read_html to grab all the tables on the webpage\n",
        "url = \"https://www.basketball-reference.com/leagues/NBA_2022_totals.html\"\n",
        "df = pd.read_html(url, header = 0)\n",
        "# df[0] contains the first table on the webpage which is the one I am looking for.\n",
        "df = df[0]"
      ]
    },
    {
      "cell_type": "code",
      "execution_count": null,
      "metadata": {
        "id": "bz0zs-uZTBTW"
      },
      "outputs": [],
      "source": [
        "# This line of code gets rid of rows that \n",
        "df = df[df[\"Player\"]!=\"Player\"]\n",
        "# My table contains duplicate player names (some player have played on multiple teams this season)\n",
        "# Here I am storing an array of all the unique player names into a variable called all_players\n",
        "all_players = df[\"Player\"].unique()"
      ]
    },
    {
      "cell_type": "markdown",
      "metadata": {
        "id": "g1OJtfvAMdwW"
      },
      "source": [
        "### Cleaning list of players"
      ]
    },
    {
      "cell_type": "code",
      "execution_count": null,
      "metadata": {
        "id": "jvRV1AD6w0If"
      },
      "outputs": [],
      "source": [
        "# This block of code cleans up the names to be used in a future function\n",
        "# Created an empty list to store my cleaned player names.\n",
        "usable= []\n",
        "\n",
        "# for loop iterates through my all_players array\n",
        "for player in all_players:\n",
        "    #Gets rid of accents in names\n",
        "    player = unidecode.unidecode(player)\n",
        "    #Gets rid of \".\" and \" ' \" in names\n",
        "    usable.append(player.replace(\".\",\"\").replace(\"'\",\"\"))"
      ]
    },
    {
      "cell_type": "code",
      "execution_count": null,
      "metadata": {
        "id": "4eZzjFSjxFzv"
      },
      "outputs": [],
      "source": [
        "# The following players have unique url's for the game logs page.\n",
        "# This will be an issue when I run thier neames through a function later.\n",
        "# So I want to remove them from my list.\n",
        "\n",
        "usable.remove(\"Clint Capela\")\n",
        "usable.remove(\"Enes Freedom\")\n",
        "usable.remove(\"Frank Ntilikina\")\n",
        "usable.remove(\"Cedi Osman\")\n",
        "##############################\n",
        "usable.remove(\"Bojan Bogdanovic\")\n",
        "usable.remove(\"David Johnson\")\n",
        "usable.remove(\"Jaden McDaniels\")\n",
        "usable.remove(\"Chaundee Brown Jr\")\n",
        "usable.remove(\"Jalen Green\")\n",
        "usable.remove(\"Javonte Green\")\n",
        "usable.remove(\"Jalen Johnson\")\n",
        "usable.remove(\"Keldon Johnson\")\n",
        "usable.remove(\"Keon Johnson\")\n",
        "usable.remove(\"Miles Bridges\")\n",
        "usable.remove(\"Kelan Martin\")\n",
        "usable.remove(\"Kenyon Martin Jr\")\n",
        "usable.remove(\"Patty Mills\")\n",
        "usable.remove(\"Marcus Morris\")\n",
        "usable.remove(\"Stanley Johnson\")\n",
        "usable.remove(\"Mason Jones\")\n",
        "usable.remove(\"Didi Louzada\")\n",
        "usable.remove(\"Jalen Smith\")\n",
        "usable.remove(\"Kenrich Williams\")\n",
        "usable.remove(\"Robert Williams\")\n",
        "usable.remove(\"Ziaire Williams\")\n",
        "usable.remove(\"Maxi Kleber\")"
      ]
    },
    {
      "cell_type": "code",
      "execution_count": null,
      "metadata": {
        "id": "B-5rTF-BvWtr"
      },
      "outputs": [],
      "source": [
        "# After removing them from my usable list, I want to create a list of tuples containing the player name and the url to thier gamelogs for 2022\n",
        "players_to_add = [(\"Clint Capela\", \"https://www.basketball-reference.com/players/c/capelca01/gamelog/2022\"),\n",
        "                  (\"Enes Freedom\", \"https://www.basketball-reference.com/players/w/kanteen01/gamelog/2022\"),\n",
        "                  (\"Frank Ntilikina\", \"https://www.basketball-reference.com/players/n/ntilila01/gamelog/2022\"),\n",
        "                  (\"Cedi Osman\", \"https://www.basketball-reference.com/players/o/osmande01/gamelog/2022\"),\n",
        "                  (\"Bojan Bogdanovic\", \"https://www.basketball-reference.com/players/b/bogdabo02/gamelog/2022\"), \n",
        "                  (\"Jaden McDaniels\",\"https://www.basketball-reference.com/players/m/mcdanja02/gamelog/2022\"),\n",
        "                  (\"Chaundee Brown Jr\",\"https://www.basketball-reference.com/players/b/brownch05/gamelog/2022\"),\n",
        "                  (\"Jalen Green\",\"https://www.basketball-reference.com/players/g/greenja05/gamelog/2022\"),\n",
        "                  (\"Javonte Green\", \"https://www.basketball-reference.com/players/g/greenja02/gamelog/2022\"), \n",
        "                  (\"Jalen Johnson\",\"https://www.basketball-reference.com/players/j/johnsja05/gamelog/2022\"),\n",
        "                  (\"Keldon Johnson\",\"https://www.basketball-reference.com/players/j/johnske04/gamelog/2022\"),\n",
        "                  (\"Keon Johnson\",\"https://www.basketball-reference.com/players/j/johnske07/gamelog/2022\"),\n",
        "                  (\"Miles Bridges\",\"https://www.basketball-reference.com/players/b/bridgmi02/gamelog/2022\"),\n",
        "                  (\"Kelan Martin\",\"https://www.basketball-reference.com/players/m/martike03/gamelog/2022\"),\n",
        "                  (\"Kenyon Martin Jr\",\"https://www.basketball-reference.com/players/m/martike04/gamelog/2022\"),\n",
        "                  (\"Patty Mills\",\"https://www.basketball-reference.com/players/m/millspa02/gamelog/2022\"),\n",
        "                  (\"Marcus Morris\",\"https://www.basketball-reference.com/players/m/morrima03/gamelog/2022\"),\n",
        "                  (\"Stanley Johnson\",\"https://www.basketball-reference.com/players/j/johnsst04/gamelog/2022\"),\n",
        "                  (\"Jalen Smith\",\"https://www.basketball-reference.com/players/s/smithja04/gamelog/2022\"),\n",
        "                  (\"Kenrich Williams\",\"https://www.basketball-reference.com/players/w/willike04/gamelog/2022\"),\n",
        "                  (\"Robert Williams\",\"https://www.basketball-reference.com/players/w/williro04/gamelog/2022\"),\n",
        "                  (\"Ziaire Williams\",\"https://www.basketball-reference.com/players/w/willizi02/gamelog/2022\"),\n",
        "                  (\"Maxi Kleber\", \"https://www.basketball-reference.com/players/k/klebima01/gamelog/2022\")]"
      ]
    },
    {
      "cell_type": "markdown",
      "metadata": {
        "id": "3qizlCOWMmm8"
      },
      "source": [
        "## Functions used to grab player game logs from basketball-reference.com"
      ]
    },
    {
      "cell_type": "code",
      "execution_count": null,
      "metadata": {
        "id": "ryg7Uw25olW_"
      },
      "outputs": [],
      "source": [
        "# Function uses player name to grab player game logs from website and returns the data as a json string\n",
        "def get_player(first_name, last_name):\n",
        "    # Creates a 2 second delay to avoid issues with calling API\n",
        "    time.sleep(2)\n",
        "    # The url for player logs are structured in a certain way we can take advantage of.\n",
        "    # Uses first 2 letters of first name, and first 5 letters of last name.\n",
        "    \n",
        "    # If the last name is shorter than 5 letters, we use what we have.\n",
        "    if len(last_name) < 5:\n",
        "        l = last_name\n",
        "    # Store first 2 letters of first name, and first 5 letters of last name into variables f and l respectively.\n",
        "    f = first_name[0:2]\n",
        "    l = last_name[0:5]\n",
        "    # generate url using variables\n",
        "    url = f\"https://www.basketball-reference.com/players/{l[0]}/{l}{f}01/gamelog/2022\"\n",
        "    \n",
        "    # using pd.read_html to grab tables from webpage\n",
        "    # Note the number \"01\" after the first two letters of the first name. \n",
        "    # Certain players have url's that contain different numbers, so I need to account for this\n",
        "    try:\n",
        "        player_logs = pd.read_html(url, header = 0)\n",
        "    except ValueError:\n",
        "        try:\n",
        "            url = f\"https://www.basketball-reference.com/players/{l[0]}/{l}{f}02/gamelog/2022\"\n",
        "            player_logs = pd.read_html(url, header = 0)\n",
        "        except:\n",
        "            url = f\"https://www.basketball-reference.com/players/{l[0]}/{l}{f}03/gamelog/2022\"\n",
        "            player_logs = pd.read_html(url, header = 0)\n",
        "    player_logs = player_logs[7]\n",
        "    # return Jason string of game logs data\n",
        "    return json.dumps(player_logs.to_dict())"
      ]
    },
    {
      "cell_type": "code",
      "execution_count": null,
      "metadata": {
        "id": "vkVnY3yyvWtt"
      },
      "outputs": [],
      "source": [
        "# This function will be used to deal with players I had removed from my usable list of players.\n",
        "def get_other_players(url):\n",
        "    time.sleep(2)\n",
        "    player_logs = pd.read_html(url, header = 0)\n",
        "    player_logs = player_logs[7]\n",
        "    return json.dumps(player_logs.to_dict())"
      ]
    },
    {
      "cell_type": "markdown",
      "metadata": {
        "id": "5ZuC3M8ebEc3"
      },
      "source": [
        "## Creating Database using sqlite3 to store player game logs data"
      ]
    },
    {
      "cell_type": "code",
      "execution_count": null,
      "metadata": {
        "id": "GpVj8iTPg6zZ"
      },
      "outputs": [],
      "source": [
        "# establish conenction to my database\n",
        "con = sqlite3.connect(\"nba.db\")"
      ]
    },
    {
      "cell_type": "code",
      "execution_count": null,
      "metadata": {
        "id": "mzjqjZKvhAHb"
      },
      "outputs": [],
      "source": [
        "# create cursor variable\n",
        "cur = con.cursor()"
      ]
    },
    {
      "cell_type": "markdown",
      "metadata": {
        "id": "8jxEsT4xvWtw"
      },
      "source": [
        "### Creating and filling table with raw NBA player game logs data in Database"
      ]
    },
    {
      "cell_type": "code",
      "execution_count": null,
      "metadata": {
        "id": "_j4SLbAkhECk"
      },
      "outputs": [],
      "source": [
        "nba_player_table = '''CREATE TABLE raw_nba(\n",
        "                                id INTEGER PRIMARY KEY AUTOINCREMENT,\n",
        "                                player_name text,\n",
        "                                raw_html text\n",
        "                            )'''"
      ]
    },
    {
      "cell_type": "code",
      "execution_count": null,
      "metadata": {
        "colab": {
          "base_uri": "https://localhost:8080/"
        },
        "id": "oYChnvKBh4C6",
        "outputId": "7978be49-bfc6-4d45-a0cd-7ca847b71da0",
        "scrolled": true
      },
      "outputs": [
        {
          "data": {
            "text/plain": [
              "<sqlite3.Cursor at 0x7f67cdd98c70>"
            ]
          },
          "execution_count": 16,
          "metadata": {},
          "output_type": "execute_result"
        }
      ],
      "source": [
        "# create  table in my database\n",
        "cur.execute(nba_player_table)"
      ]
    },
    {
      "cell_type": "code",
      "execution_count": null,
      "metadata": {
        "id": "-eN_WrVxh8nR"
      },
      "outputs": [],
      "source": [
        "# commit changes\n",
        "con.commit()"
      ]
    },
    {
      "cell_type": "code",
      "execution_count": null,
      "metadata": {
        "id": "HCyuTt1iS96K"
      },
      "outputs": [],
      "source": [
        "# using for loop to itterate through my usable players list and add the player name and  game log data to my table.\n",
        "for player in usable:\n",
        "  # create variables for first and last name to use for my get_player function\n",
        "  # split player name. \n",
        "  # [0] gives me first name. [1] gives me last name\n",
        "  f = player.split(\" \")[0].replace(\".\",\"\")\n",
        "  l = player.split(\" \")[1]\n",
        "  # inserts player name and raw jason string of player game log data (via get_player function) into my raw_nba table\n",
        "  cur.execute(\"INSERT INTO raw_nba (player_name, raw_html) values (?,?)\", (player, get_player(f, l)))"
      ]
    },
    {
      "cell_type": "code",
      "execution_count": null,
      "metadata": {
        "id": "w0NqNIn_mjzd"
      },
      "outputs": [],
      "source": [
        "con.commit()"
      ]
    },
    {
      "cell_type": "code",
      "execution_count": null,
      "metadata": {
        "id": "2KIUO2s1vWty"
      },
      "outputs": [],
      "source": [
        "con.close()"
      ]
    },
    {
      "cell_type": "code",
      "execution_count": null,
      "metadata": {
        "id": "cMNIGy34vWtz"
      },
      "outputs": [],
      "source": [
        "con = sqlite3.connect(\"nba.db\")\n",
        "cur = con.cursor()"
      ]
    },
    {
      "cell_type": "code",
      "execution_count": null,
      "metadata": {
        "id": "hpVyNSPOvWtz"
      },
      "outputs": [],
      "source": [
        "# This code block adds the remaining players and thier game log data to my table\n",
        "\n",
        "# The players are found in the players_to_add list.\n",
        "# Use for loop to iterate through list\n",
        "for player in players_to_add:\n",
        "  # Inserts player name and game log data (via get_other_players function) into raw_nba table.\n",
        "  cur.execute(\"INSERT INTO raw_nba (player_name, raw_html) values (?,?)\", (player[0],get_other_players(player[1])))"
      ]
    },
    {
      "cell_type": "code",
      "execution_count": null,
      "metadata": {
        "id": "z2RAJqbovWt0"
      },
      "outputs": [],
      "source": [
        "con.commit()"
      ]
    },
    {
      "cell_type": "code",
      "execution_count": null,
      "metadata": {
        "colab": {
          "base_uri": "https://localhost:8080/"
        },
        "id": "Q41vocEWmmiL",
        "outputId": "e8bd4184-c05b-41e2-e923-542dce45f7b7"
      },
      "outputs": [
        {
          "data": {
            "text/plain": [
              "<sqlite3.Cursor at 0x7f67cb742730>"
            ]
          },
          "execution_count": 37,
          "metadata": {},
          "output_type": "execute_result"
        }
      ],
      "source": [
        "cur.execute(\"SELECT * from raw_nba\")"
      ]
    },
    {
      "cell_type": "code",
      "execution_count": null,
      "metadata": {
        "id": "-6xtB5_umvd6"
      },
      "outputs": [],
      "source": [
        "x = cur.fetchall()"
      ]
    },
    {
      "cell_type": "code",
      "execution_count": null,
      "metadata": {
        "id": "yfVC8zvKvWt1"
      },
      "outputs": [],
      "source": [
        "con.close()"
      ]
    },
    {
      "cell_type": "markdown",
      "metadata": {
        "id": "zmR2CrX-vWt1"
      },
      "source": [
        "### Creating and filling clean data table in database"
      ]
    },
    {
      "cell_type": "code",
      "execution_count": null,
      "metadata": {
        "id": "gfkS_IxjmHSw"
      },
      "outputs": [],
      "source": [
        "#Function created to help clean data of a player's game logs\n",
        "def data_cleaner(input):\n",
        "\n",
        "    #Following lines of code gets rid of rows without game data\n",
        "    input = input[input[\"PTS\"]!=\"PTS\"]\n",
        "\n",
        "    input = input[input[\"PTS\"]!=\"Inactive\"]\n",
        "    input = input[input[\"PTS\"]!=\"Did Not Play\"]\n",
        "    input = input[input[\"PTS\"]!=\"Did Not Dress\"]\n",
        "    input = input[input[\"PTS\"]!=\"Not With Team\"]\n",
        "\n",
        "    #Following lines of code changes the following columns to numeric values\n",
        "    cols =   [\"PTS\", \"AST\", \"TRB\", \"BLK\", \"STL\", \"PF\", \"FG\",\"FGA\", \"3P\", \n",
        "                \"3PA\", \"3P%\", \"FG%\", \"FT\", \"FTA\", \"FT%\", \"ORB\", \"DRB\", \"+/-\"]\n",
        "    input[cols] = input[cols].apply(pd.to_numeric, errors='coerce')\n",
        "    return input"
      ]
    },
    {
      "cell_type": "code",
      "execution_count": null,
      "metadata": {
        "id": "t6qYwucb3p-y"
      },
      "outputs": [],
      "source": [
        "#Here I am creating a list of tuples, that include the name of the player and thier cleaned nba game logs\n",
        "clean = []\n",
        "for player in x:\n",
        "  # unpack tuple\n",
        "  a,b,c = player\n",
        "  # the element c contains the json string of our player's game log data.\n",
        "  # we want to turn this into a pandas dataframe and use our function to clean it.\n",
        "  c = data_cleaner(pd.DataFrame(json.loads(c)))\n",
        "  c = json.dumps(c.to_dict())\n",
        "  clean.append((a,b,c))\n"
      ]
    },
    {
      "cell_type": "code",
      "execution_count": null,
      "metadata": {
        "id": "WruiwtaTNgdv"
      },
      "outputs": [],
      "source": [
        "con = sqlite3.connect('nba.db')\n",
        "cur = con.cursor()"
      ]
    },
    {
      "cell_type": "code",
      "execution_count": null,
      "metadata": {
        "id": "nmrwpnT2VVBk"
      },
      "outputs": [],
      "source": [
        "clean_nba = '''CREATE TABLE clean_nba(\n",
        "                                id INTEGER PRIMARY KEY AUTOINCREMENT,\n",
        "                                player_name text,\n",
        "                                raw_html text\n",
        "                            )'''"
      ]
    },
    {
      "cell_type": "code",
      "execution_count": null,
      "metadata": {
        "colab": {
          "base_uri": "https://localhost:8080/"
        },
        "id": "zR3bceKT9DDr",
        "outputId": "5ec62b0f-3ce5-4e69-9747-fba38895bd82"
      },
      "outputs": [
        {
          "data": {
            "text/plain": [
              "<sqlite3.Cursor at 0x7f67cb5be0a0>"
            ]
          },
          "execution_count": 45,
          "metadata": {},
          "output_type": "execute_result"
        }
      ],
      "source": [
        "# creating new table in my database called clean_nba\n",
        "cur.execute(clean_nba)"
      ]
    },
    {
      "cell_type": "code",
      "execution_count": null,
      "metadata": {
        "id": "GV2QUri79FPr"
      },
      "outputs": [],
      "source": [
        "#iterating through my list of tuples containing the clean data and inserting it into my new table \n",
        "for player in clean:\n",
        "  # inserts player name and the player game logs as json string into clean_nba table.\n",
        "  cur.execute(\"INSERT INTO clean_nba (player_name, raw_html) values (?,?)\", (player[1], player[2]))"
      ]
    },
    {
      "cell_type": "code",
      "execution_count": null,
      "metadata": {
        "id": "6D2Kcu2cvWt4"
      },
      "outputs": [],
      "source": [
        "con.commit()"
      ]
    },
    {
      "cell_type": "code",
      "execution_count": null,
      "metadata": {
        "id": "_nJ1nbfELV7n"
      },
      "outputs": [],
      "source": [
        "con.close()"
      ]
    },
    {
      "cell_type": "code",
      "execution_count": null,
      "metadata": {
        "id": "4a-KkMnS-E8y"
      },
      "outputs": [],
      "source": [
        "# Helper function that takes in a name of a player and searches the table with the cleaned data.\n",
        "# The function returns a clean pandas dataframe of thier game logs.\n",
        "def return_player(player):\n",
        "    # establish connection to database\n",
        "    con = sqlite3.connect('nba.db')\n",
        "    cur = con.cursor()\n",
        "    dict_to_pass = {'x':player}\n",
        "    # selects rows from my clean_nba table where the player name is equal to the name we inputted.\n",
        "    cur.execute('select * from clean_nba where player_name=:x',dict_to_pass)\n",
        "    x = cur.fetchall()\n",
        "    con.close()\n",
        "    # json.loads turns the json string into a dictionary  object.\n",
        "    # we then use pd.DataFrame to create pandas data frame of the players game logs and return it.\n",
        "    return pd.DataFrame(json.loads(x[0][2]))\n"
      ]
    },
    {
      "cell_type": "markdown",
      "metadata": {
        "id": "ITpl1pt9Z2X9"
      },
      "source": [
        "## Over / Under functions"
      ]
    },
    {
      "cell_type": "markdown",
      "metadata": {
        "id": "nb_5QzeA9bYf"
      },
      "source": [
        "Using the monte carlo technique, I want to generate the probabilities of a player putting up a stat higher or lower than a certain value. For example what is the probability of Stephen Curry scoring more than 25 points in a game? Using the player's data of the previous games this season, I can simulate outcomes based off the distribution of our data (In this case Normal Distribution). I then use the outcomes to generate my probality. "
      ]
    },
    {
      "cell_type": "code",
      "execution_count": null,
      "metadata": {
        "id": "2NZxUyT6UQn5"
      },
      "outputs": [],
      "source": [
        "def over_under_pts(player, value):\n",
        "  # Here I am making use of my return_player function to grab the dataframe \n",
        "  # of the player game logs and storing it into the variable df.\n",
        "  df = return_player(player)\n",
        "  # Here I am calculating and storing the mean and standard deviation for points scored each game.\n",
        "  mu = df[\"PTS\"].mean()\n",
        "  sigma = df[\"PTS\"].std()\n",
        "  # This variable will be used to keep track of certain results in our simulations.\n",
        "  above = 0\n",
        "  # n = the number of simulations I will produce.\n",
        "  n = 20000\n",
        "  for i in range(n):\n",
        "    # Using the mean and standard deviation I will generate a random number from a normal distribution\n",
        "    # of points per game. I will then compare this number to the value the user is trying to bet over or under on.\n",
        "    # If it is larger I will increment the \"above\" variable by 1.\n",
        "    if value < random.gauss(mu,sigma):\n",
        "      above += 1\n",
        "  # After 20000 simulations I calculate the percentage of times we were over.\n",
        "  # This percentage represents the probability of a player scoring more than the value we inputted. \n",
        "  over_prob = round(above/n,2)\n",
        "  # Calculating probality of scoring less than target value\n",
        "  under_prob = round(1-over_prob,2)\n",
        "  # Here I am converting the probability to Moneyline odds\n",
        "  if over_prob > .50:\n",
        "    odds =  - 1 * (over_prob / (1 - over_prob)) * 100\n",
        "  else:\n",
        "    odds = (1 -  over_prob) / over_prob  * 100\n",
        "  \n",
        "  print(f'Over Probabilty: {over_prob}, Over Moneyline: {round(odds)}')\n",
        "  print(f'Under Probability: {under_prob}, Under Moneyline: {-round(odds)}')"
      ]
    },
    {
      "cell_type": "code",
      "execution_count": null,
      "metadata": {
        "colab": {
          "base_uri": "https://localhost:8080/"
        },
        "id": "w9gYuueBpAim",
        "outputId": "e120c26b-c2b3-4c8a-be76-43173d973ffa"
      },
      "outputs": [
        {
          "name": "stdout",
          "output_type": "stream",
          "text": [
            "Over Probabilty: 0.78, Over Moneyline: -355\n",
            "Under Probability: 0.22, Under Moneyline: 355\n"
          ]
        }
      ],
      "source": [
        "over_under_pts(\"LeBron James\", 24)"
      ]
    },
    {
      "cell_type": "markdown",
      "source": [
        "I have seperate functions for different statistics we may be betting over/under on. I could've just used one funtion and added a paramter called \"statistic\" to account for the differnt statistics we may want to bet on. The reason I did not do this was to avoid errors when inputting the parameter incorrectly. "
      ],
      "metadata": {
        "id": "UbSFRwTgfVpE"
      }
    },
    {
      "cell_type": "code",
      "execution_count": null,
      "metadata": {
        "id": "tuDuYKbsWrn1"
      },
      "outputs": [],
      "source": [
        "def over_under_rebounds(player, value):\n",
        "  df = return_player(player)\n",
        "  mu = df[\"TRB\"].mean()\n",
        "  sigma = df[\"TRB\"].std()\n",
        "  above = 0\n",
        "  n = 10000\n",
        "  for i in range(n):\n",
        "    if value < random.gauss(mu,sigma):\n",
        "      above += 1\n",
        "  over_prob = round(above/n,2)\n",
        "  under_prob = round(1-over_prob,2)\n",
        "  if over_prob > .50:\n",
        "    odds =  - 1 * (over_prob / (1 - over_prob)) * 100\n",
        "  else:\n",
        "    odds = (1 -  over_prob) / over_prob  * 100\n",
        "\n",
        "  print(f'Over Probabilty: {over_prob}, Over Moneyline: {round(odds)}')\n",
        "  print(f'Under Probability: {under_prob}, Under Moneyline: {-round(odds)}')"
      ]
    },
    {
      "cell_type": "code",
      "execution_count": null,
      "metadata": {
        "id": "1j9DzjUgW1PX"
      },
      "outputs": [],
      "source": [
        "def over_under_steals(player, value):\n",
        "    df = return_player(player)\n",
        "    mu = df[\"STL\"].mean()\n",
        "    sigma = df[\"STL\"].std()\n",
        "    above = 0\n",
        "    n = 10000\n",
        "    for i in range(n):\n",
        "        if value < random.gauss(mu,sigma):\n",
        "            above += 1\n",
        "    over_prob = round(above/n,2)\n",
        "    under_prob = round(1-over_prob,2)\n",
        "    if over_prob > .50:\n",
        "        odds =  - 1 * (over_prob / (1 - over_prob)) * 100\n",
        "    else:\n",
        "        odds = (1 -  over_prob) / over_prob  * 100\n",
        "  \n",
        "    print(f'Over Probabilty: {over_prob}, Over Moneyline: {round(odds)}')\n",
        "    print(f'Under Probability: {under_prob}, Under Moneyline: {-round(odds)}')"
      ]
    },
    {
      "cell_type": "code",
      "execution_count": null,
      "metadata": {
        "id": "Q5cdMpL0XL7L"
      },
      "outputs": [],
      "source": [
        "def over_under_assists(player, value):\n",
        "  df = return_player(player)\n",
        "  mu = df[\"AST\"].mean()\n",
        "  sigma = df[\"AST\"].std()\n",
        "  above = 0\n",
        "  n = 10000\n",
        "  for i in range(n):\n",
        "    if value < random.gauss(mu,sigma):\n",
        "      above += 1\n",
        "  over_prob = round(above/n,2)\n",
        "  under_prob = round(1-over_prob,2)\n",
        "  if over_prob > .50:\n",
        "    odds =  - 1 * (over_prob / (1 - over_prob)) * 100\n",
        "  else:\n",
        "    odds = (1 -  over_prob) / over_prob  * 100\n",
        "  \n",
        "  print(f'Over Probabilty: {over_prob}, Over Moneyline: {round(odds)}')\n",
        "  print(f'Under Probability: {under_prob}, Under Moneyline: {-round(odds)}')"
      ]
    },
    {
      "cell_type": "code",
      "execution_count": null,
      "metadata": {
        "id": "yWSKpmfjXby0"
      },
      "outputs": [],
      "source": [
        "def over_under_3pointers(player, value):\n",
        "  df = return_player(player)\n",
        "  # create variables for the \n",
        "  mu = df[\"3P\"].mean()\n",
        "  sigma = df[\"3P\"].std()\n",
        "  above = 0\n",
        "  n = 10000\n",
        "  for i in range(n):\n",
        "    if value < random.gauss(mu,sigma):\n",
        "      above += 1\n",
        "  over_prob = round(above/n,2)\n",
        "  under_prob = round(1-over_prob,2)\n",
        "  if over_prob > .50:\n",
        "    odds =  - 1 * (over_prob / (1 - over_prob)) * 100\n",
        "  else:\n",
        "    odds = (1 -  over_prob) / over_prob  * 100\n",
        "  \n",
        "  print(f'Over Probabilty: {over_prob}, Over Moneyline: {round(odds)}')\n",
        "  print(f'Under Probability: {under_prob}, Under Moneyline: {-round(odds)}')"
      ]
    },
    {
      "cell_type": "code",
      "execution_count": null,
      "metadata": {
        "id": "oCfIszOAYSzy"
      },
      "outputs": [],
      "source": [
        "def over_under_blocks(player, value):\n",
        "  df = return_player(player)\n",
        "  mu = df[\"BLK\"].mean()\n",
        "  sigma = df[\"BLK\"].std()\n",
        "  above = 0\n",
        "  n = 10000\n",
        "  for i in range(n):\n",
        "    if value < random.gauss(mu,sigma):\n",
        "      above += 1\n",
        "  over_prob = round(above/n,2)\n",
        "  under_prob = round(1-over_prob,2)\n",
        "  if over_prob > .50:\n",
        "    odds =  - 1 * (over_prob / (1 - over_prob)) * 100\n",
        "  else:\n",
        "    odds = (1 -  over_prob) / over_prob  * 100\n",
        "  \n",
        "  print(f'Over Probabilty: {over_prob}, Over Moneyline: {round(odds)}')\n",
        "  print(f'Under Probability: {under_prob}, Under Moneyline: {-round(odds)}')"
      ]
    },
    {
      "cell_type": "code",
      "execution_count": null,
      "metadata": {
        "id": "UcYU5bYaYskd"
      },
      "outputs": [],
      "source": [
        "def over_under_freethrows(player, value):\n",
        "  df = return_player(player)\n",
        "  mu = df[\"FT\"].mean()\n",
        "  sigma = df[\"FT\"].std()\n",
        "  above = 0\n",
        "  n = 10000\n",
        "  for i in range(n):\n",
        "    if value < random.gauss(mu,sigma):\n",
        "      above += 1\n",
        "  over_prob = round(above/n,2)\n",
        "  under_prob = round(1-over_prob,2)\n",
        "  if over_prob > .50:\n",
        "    odds =  - 1 * (over_prob / (1 - over_prob)) * 100\n",
        "  else:\n",
        "    odds = (1 -  over_prob) / over_prob  * 100\n",
        "  \n",
        "  print(f'Over Probabilty: {over_prob}, Over Moneyline: {round(odds)}')\n",
        "  print(f'Under Probability: {under_prob}, Under Moneyline: {-round(odds)}')"
      ]
    },
    {
      "cell_type": "code",
      "execution_count": null,
      "metadata": {
        "id": "yq7gcFFMZ-e7"
      },
      "outputs": [],
      "source": [
        "def over_under_turnovers(player, value):\n",
        "  df = return_player(player)\n",
        "  mu = df[\"TOV\"].mean()\n",
        "  sigma = df[\"TOV\"].std()\n",
        "  above = 0\n",
        "  n = 10000\n",
        "  for i in range(n):\n",
        "    if value < random.gauss(mu,sigma):\n",
        "      above += 1\n",
        "  over_prob = round(above/n,2)\n",
        "  under_prob = round(1-over_prob,2)\n",
        "  if over_prob > .50:\n",
        "    odds =  - 1 * (over_prob / (1 - over_prob)) * 100\n",
        "  else:\n",
        "    odds = (1 -  over_prob) / over_prob  * 100\n",
        "  \n",
        "  print(f'Over Probabilty: {over_prob}, Over Moneyline: {round(odds)}')\n",
        "  print(f'Under Probability: {under_prob}, Under Moneyline: {-round(odds)}')"
      ]
    }
  ],
  "metadata": {
    "colab": {
      "collapsed_sections": [
        "DW16Z5GdanSy",
        "NOk36Dqg5Yhs",
        "g1OJtfvAMdwW",
        "3qizlCOWMmm8",
        "5ZuC3M8ebEc3",
        "8jxEsT4xvWtw",
        "zmR2CrX-vWt1"
      ],
      "name": "Over_Under_NBA2022.ipynb",
      "provenance": [],
      "include_colab_link": true
    },
    "kernelspec": {
      "display_name": "Python 3",
      "language": "python",
      "name": "python3"
    },
    "language_info": {
      "codemirror_mode": {
        "name": "ipython",
        "version": 3
      },
      "file_extension": ".py",
      "mimetype": "text/x-python",
      "name": "python",
      "nbconvert_exporter": "python",
      "pygments_lexer": "ipython3",
      "version": "3.8.3"
    }
  },
  "nbformat": 4,
  "nbformat_minor": 0
}